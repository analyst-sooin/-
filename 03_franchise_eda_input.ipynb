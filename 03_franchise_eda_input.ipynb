{
 "cells": [
  {
   "cell_type": "markdown",
   "metadata": {
    "id": "fZmSx9zByH8o"
   },
   "source": [
    "[![Open In Colab](https://colab.research.google.com/assets/colab-badge.svg)](https://bit.ly/open-data-03-franchise-input)\n",
    "\n",
    "## 소상공인시장진흥공단 상가업소정보로 프랜차이즈 입점분석\n",
    "\n",
    "* 배스킨라빈스와 던킨도너츠는 근처에 입지한 것을 종종 볼 수 있었어요.\n",
    "* 또, 파리바게뜨와 뚜레주르는 주변에서 많이 볼 수 있는 프랜차이즈 중 하나에요. \n",
    "* 이런 프랜차이즈 매장이 얼마나 모여 있는지 혹은 흩어져 있는지 지도에 직접 표시를 해보면서 대용량 데이터에서 원하는 특정 데이터를 추출해 보는 실습을 해봅니다.\n",
    "* 추출한 데이터를 전처리하고 가공해서 원하는 형태로 시각화를 하거나 지도에 표현합니다.\n",
    "* Python, Pandas, Numpy, Seaborn, Matplotlib, folium 을 통해 다양한 방법으로 표현하면서 파이썬의 여러 도구들에 익숙해 지는 것을 목표로 합니다.\n",
    "\n",
    "### 다루는 내용\n",
    "* 데이터 요약하기\n",
    "* 공공데이터를 활용해 텍스트 데이터 정제하고 원하는 정보 찾아내기\n",
    "* 문자열에서 원하는 텍스트 추출하기\n",
    "* 문자열을 활용한 다양한 분석 방법과 위치 정보 사용하기\n",
    "* folium을 통한 위경도 데이터 시각화 이해하기\n",
    "* folium을 통해 지도에 분석한 내용을 표현하기 - CircleMarker와 MarkerCluster 그리기\n",
    "\n",
    "\n",
    "### 데이터셋\n",
    "* 공공데이터 포털 : https://www.data.go.kr/dataset/15012005/fileData.do\n",
    "* 영상에 사용한 데이터셋 : http://bit.ly/open-data-set-folder (공공데이터포털에서 다운로드 받은 파일이 있습니다. 어떤 파일을 다운로드 받아야 될지 모르겠다면 여기에 있는 파일을 사용해 주세요.)"
   ]
  },
  {
   "cell_type": "markdown",
   "metadata": {
    "id": "VMZXgI9fyH8r"
   },
   "source": [
    "## 필요한 라이브러리 불러오기"
   ]
  },
  {
   "cell_type": "code",
   "execution_count": 1,
   "metadata": {
    "id": "LOUmhMR9yH8s"
   },
   "outputs": [],
   "source": [
    "# pandas, numpy, seaborn을 불러옵니다.\n",
    "import pandas as pd\n",
    "import numpy as np\n",
    "import seaborn as sns\n",
    "import matplotlib.pyplot as plt\n",
    "\n",
    "# 구버전의 주피터 노트북에서 그래프가 보이는 설정\n",
    "%matplotlib inline"
   ]
  },
  {
   "cell_type": "markdown",
   "metadata": {
    "id": "HUcSoQBtyH8t"
   },
   "source": [
    "## 시각화를 위한 한글 폰트 설정하기"
   ]
  },
  {
   "cell_type": "code",
   "execution_count": null,
   "metadata": {
    "id": "Jc_L1MnnyH8t"
   },
   "outputs": [],
   "source": [
    "# 폰트 설정이 잘 안 된다면 해당 셀의 마지막 줄 주석을 풀고 실행해 보세요.\n",
    "# colab 사용시에도 아래 함수를 활용해 보세요.\n",
    "def get_font_family():\n",
    "    \"\"\"\n",
    "    시스템 환경에 따른 기본 폰트명을 반환하는 함수\n",
    "    \"\"\"\n",
    "    import platform\n",
    "    system_name = platform.system()\n",
    "\n",
    "    if system_name == \"Darwin\" :\n",
    "        font_family = \"AppleGothic\"\n",
    "    elif system_name == \"Windows\":\n",
    "        font_family = \"Malgun Gothic\"\n",
    "    else:\n",
    "        # Linux(colab)\n",
    "        !apt-get install fonts-nanum -qq  > /dev/null\n",
    "        !fc-cache -fv\n",
    "\n",
    "        import matplotlib as mpl\n",
    "        mpl.font_manager._rebuild()\n",
    "        findfont = mpl.font_manager.fontManager.findfont\n",
    "        mpl.font_manager.findfont = findfont\n",
    "        mpl.backends.backend_agg.findfont = findfont\n",
    "        \n",
    "        font_family = \"NanumBarunGothic\"\n",
    "    return font_family\n",
    "\n",
    "# plt.rc(\"font\", family=get_font_family())"
   ]
  },
  {
   "cell_type": "code",
   "execution_count": null,
   "metadata": {
    "id": "YnDovHSuyH8u"
   },
   "outputs": [],
   "source": []
  },
  {
   "cell_type": "code",
   "execution_count": 2,
   "metadata": {
    "id": "SnGGLJY9yH8u"
   },
   "outputs": [],
   "source": [
    "# 폰트가 선명하게 보이도록 설정\n",
    "from IPython.display import set_matplotlib_formats\n",
    "set_matplotlib_formats(\"retina\")"
   ]
  },
  {
   "cell_type": "code",
   "execution_count": 8,
   "metadata": {
    "id": "vni1RnMPyH8v"
   },
   "outputs": [],
   "source": [
    "# 한글폰트와 마이너스 폰트 설정 확인\n",
    "plt.rc(\"font\", family = \"Malgun Gothic\")"
   ]
  },
  {
   "cell_type": "markdown",
   "metadata": {
    "id": "hNOXxmzZyH8v"
   },
   "source": [
    "## Google Colab 을 위한 코드\n",
    "### Colab 에서 실행을 위한 코드\n",
    "\n",
    "* 아래의 코드는 google colaboratory 에서 실행을 위한 코드로 로컬 아나콘다에서는 주석처리합니다.\n",
    "* google colaboratory 에서는 주석을 풀고 폰트 설정과 csv 파일을 불러옵니다."
   ]
  },
  {
   "cell_type": "code",
   "execution_count": null,
   "metadata": {
    "id": "BY8lLEiRyH8w"
   },
   "outputs": [],
   "source": [
    "# # 나눔고딕 설치\n",
    "# !apt -qq -y install fonts-nanum > /dev/null\n",
    "\n",
    "# import matplotlib.font_manager as fm\n",
    "\n",
    "# fontpath = '/usr/share/fonts/truetype/nanum/NanumBarunGothic.ttf'\n",
    "# font = fm.FontProperties(fname=fontpath, size=9)\n",
    "# fm._rebuild()\n",
    "\n",
    "# # 그래프에 retina display 적용\n",
    "# %config InlineBackend.figure_format = 'retina'\n",
    "\n",
    "# # Colab 의 한글 폰트 설정\n",
    "# plt.rc('font', family='NanumBarunGothic') "
   ]
  },
  {
   "cell_type": "markdown",
   "metadata": {
    "id": "wdjtocYRyH8w"
   },
   "source": [
    "### Colab 용 GoogleAuth 인증 \n",
    "* 구글 드라이브에 있는 파일을 가져오기 위해 사용합니다."
   ]
  },
  {
   "cell_type": "code",
   "execution_count": null,
   "metadata": {
    "id": "mgRwd__FyH8w"
   },
   "outputs": [],
   "source": [
    "# # 구글 드라이브에서 csv 파일을 읽어오기 위해 gauth 인증\n",
    "# !pip install -U -q PyDrive\n",
    "# from pydrive.auth import GoogleAuth\n",
    "# from pydrive.drive import GoogleDrive\n",
    "# from google.colab import auth\n",
    "# from oauth2client.client import GoogleCredentials\n",
    "\n",
    "# # PyDrive client 인증\n",
    "# auth.authenticate_user()\n",
    "# gauth = GoogleAuth()\n",
    "# gauth.credentials = GoogleCredentials.get_application_default()\n",
    "# drive = GoogleDrive(gauth)"
   ]
  },
  {
   "cell_type": "code",
   "execution_count": null,
   "metadata": {
    "id": "oraCt_9ryH8x"
   },
   "outputs": [],
   "source": [
    "# # 공유 가능한 링크로 파일 가져오기\n",
    "# url = 'https://drive.google.com/open?id=1e91PH_KRFxNXUsx8Hi-Q2vPiorCDsOP4'\n",
    "# id = url.split('=')[1]\n",
    "# print(id)\n",
    "# downloaded = drive.CreateFile({'id':id}) \n",
    "# # data 폴더에 파일을 관리하며, 폴더가 없다면 만들어서 파일을 관리하도록 한다.\n",
    "# %mkdir data\n",
    "# downloaded.GetContentFile('data/상가업소정보_201912_01.csv')  "
   ]
  },
  {
   "cell_type": "markdown",
   "metadata": {
    "id": "JF9dRod6yH8x"
   },
   "source": [
    "## 데이터 불러오기\n",
    "* 공공데이터 포털 : https://www.data.go.kr/dataset/15012005/fileData.do\n",
    "* 공공데이터 포털에서 소상공인시장진흥공단 상가업소정보를 다운로드 받아 사용했습니다\n",
    "* 영상에 사용한 데이터셋 : http://bit.ly/open-data-set-folder (공공데이터포털에서 다운로드 받은 파일이 있습니다. 어떤 파일을 다운로드 받아야 될지 모르겠다면 여기에 있는 파일을 사용해 주세요.)"
   ]
  },
  {
   "cell_type": "code",
   "execution_count": 11,
   "metadata": {
    "id": "8KdyrNE_yH8x"
   },
   "outputs": [],
   "source": [
    "# 파일을 불러와 df 라는 변수에 담습니다.\n",
    "df = pd.read_csv(\"./상가업소정보_201912_01.csv\", sep ='|')"
   ]
  },
  {
   "cell_type": "markdown",
   "metadata": {
    "id": "PRKMcRQMyH8x"
   },
   "source": [
    "### 데이터 크기 보기"
   ]
  },
  {
   "cell_type": "code",
   "execution_count": 12,
   "metadata": {
    "id": "gUGQiKZ1yH8y"
   },
   "outputs": [
    {
     "data": {
      "text/plain": [
       "(573680, 39)"
      ]
     },
     "execution_count": 12,
     "metadata": {},
     "output_type": "execute_result"
    }
   ],
   "source": [
    "# shape 를 통해 불러온 csv 파일의 크기를 확인합니다.\n",
    "df.shape"
   ]
  },
  {
   "cell_type": "markdown",
   "metadata": {
    "id": "G6kLjPRfyH8y"
   },
   "source": [
    "### info 보기"
   ]
  },
  {
   "cell_type": "code",
   "execution_count": 13,
   "metadata": {
    "id": "7wq414spyH8y"
   },
   "outputs": [
    {
     "name": "stdout",
     "output_type": "stream",
     "text": [
      "<class 'pandas.core.frame.DataFrame'>\n",
      "RangeIndex: 573680 entries, 0 to 573679\n",
      "Data columns (total 39 columns):\n",
      " #   Column     Non-Null Count   Dtype  \n",
      "---  ------     --------------   -----  \n",
      " 0   상가업소번호     573680 non-null  int64  \n",
      " 1   상호명        573679 non-null  object \n",
      " 2   지점명        76674 non-null   object \n",
      " 3   상권업종대분류코드  573680 non-null  object \n",
      " 4   상권업종대분류명   573680 non-null  object \n",
      " 5   상권업종중분류코드  573680 non-null  object \n",
      " 6   상권업종중분류명   573680 non-null  object \n",
      " 7   상권업종소분류코드  573680 non-null  object \n",
      " 8   상권업종소분류명   573680 non-null  object \n",
      " 9   표준산업분류코드   539290 non-null  object \n",
      " 10  표준산업분류명    539290 non-null  object \n",
      " 11  시도코드       573680 non-null  int64  \n",
      " 12  시도명        573680 non-null  object \n",
      " 13  시군구코드      573680 non-null  int64  \n",
      " 14  시군구명       573680 non-null  object \n",
      " 15  행정동코드      573680 non-null  int64  \n",
      " 16  행정동명       573680 non-null  object \n",
      " 17  법정동코드      573680 non-null  int64  \n",
      " 18  법정동명       573680 non-null  object \n",
      " 19  지번코드       573680 non-null  int64  \n",
      " 20  대지구분코드     573680 non-null  int64  \n",
      " 21  대지구분명      573680 non-null  object \n",
      " 22  지번본번지      573680 non-null  int64  \n",
      " 23  지번부번지      474924 non-null  float64\n",
      " 24  지번주소       573680 non-null  object \n",
      " 25  도로명코드      573680 non-null  int64  \n",
      " 26  도로명        573680 non-null  object \n",
      " 27  건물본번지      573680 non-null  int64  \n",
      " 28  건물부번지      71988 non-null   float64\n",
      " 29  건물관리번호     573680 non-null  object \n",
      " 30  건물명        265608 non-null  object \n",
      " 31  도로명주소      573680 non-null  object \n",
      " 32  구우편번호      573680 non-null  int64  \n",
      " 33  신우편번호      573671 non-null  float64\n",
      " 34  동정보        50856 non-null   object \n",
      " 35  층정보        347127 non-null  object \n",
      " 36  호정보        85266 non-null   object \n",
      " 37  경도         573680 non-null  float64\n",
      " 38  위도         573680 non-null  float64\n",
      "dtypes: float64(5), int64(11), object(23)\n",
      "memory usage: 170.7+ MB\n"
     ]
    }
   ],
   "source": [
    "# info 를 사용하면 데이터의 전체적인 정보를 볼 수 있습니다.\n",
    "# 데이터의 사이즈, 타입, 메모리 사용량 등을 볼 수 있습니다.\n",
    "df.info()"
   ]
  },
  {
   "cell_type": "markdown",
   "metadata": {
    "id": "X0DNlFMqyH8y"
   },
   "source": [
    "### 결측치 보기"
   ]
  },
  {
   "cell_type": "code",
   "execution_count": 20,
   "metadata": {
    "id": "JEI3SMV_yH8y"
   },
   "outputs": [
    {
     "data": {
      "text/plain": [
       "<AxesSubplot:>"
      ]
     },
     "execution_count": 20,
     "metadata": {},
     "output_type": "execute_result"
    },
    {
     "data": {
      "image/png": "[encoded data removed]",
      "text/plain": [
       "<Figure size 504x720 with 1 Axes>"
      ]
     },
     "metadata": {
      "image/png": {
       "height": 575,
       "width": 501
      },
      "needs_background": "light"
     },
     "output_type": "display_data"
    }
   ],
   "source": [
    "# isnull() 을 사용하면 데이터의 결측치를 볼 수 있습니다.\n",
    "# 결측치는 True로 값이 있다면 False로 표시되는데 True 는 1과 같기 때문에 \n",
    "# True 값을 sum()을 사용해서 더하게 되면 합계를 볼 수 있습니다.\n",
    "# mean()을 사용하면 결측치의 비율을 볼 수 있습니다.\n",
    "\n",
    "df.isnull().mean().plot.barh(figsize = (7, 10))"
   ]
  },
  {
   "cell_type": "markdown",
   "metadata": {
    "id": "g9Vjq7MvyH8z"
   },
   "source": [
    "### 사용하지 않는 컬럼 제거하기"
   ]
  },
  {
   "cell_type": "code",
   "execution_count": 21,
   "metadata": {
    "id": "pKsA1DUOyH8z"
   },
   "outputs": [
    {
     "data": {
      "text/plain": [
       "(573680, 11)"
      ]
     },
     "execution_count": 21,
     "metadata": {},
     "output_type": "execute_result"
    }
   ],
   "source": [
    "# drop을 하는 방법도 있지만 사용할 컬럼만 따로 모아서 보는 방법도 있습니다.\n",
    "# 여기에서는 사용할 컬럼만 따로 모아서 사용합니다.\n",
    "columns = ['상호명', '상권업종대분류명', '상권업종중분류명', '상권업종소분류명', \n",
    "           '시도명', '시군구명', '행정동명', '법정동명', '도로명주소', \n",
    "           '경도', '위도']\n",
    "\n",
    "df = df[columns].copy()\n",
    "df.shape"
   ]
  },
  {
   "cell_type": "code",
   "execution_count": 23,
   "metadata": {
    "id": "_31NPdyzyH8z"
   },
   "outputs": [
    {
     "name": "stdout",
     "output_type": "stream",
     "text": [
      "<class 'pandas.core.frame.DataFrame'>\n",
      "RangeIndex: 573680 entries, 0 to 573679\n",
      "Data columns (total 11 columns):\n",
      " #   Column    Non-Null Count   Dtype  \n",
      "---  ------    --------------   -----  \n",
      " 0   상호명       573679 non-null  object \n",
      " 1   상권업종대분류명  573680 non-null  object \n",
      " 2   상권업종중분류명  573680 non-null  object \n",
      " 3   상권업종소분류명  573680 non-null  object \n",
      " 4   시도명       573680 non-null  object \n",
      " 5   시군구명      573680 non-null  object \n",
      " 6   행정동명      573680 non-null  object \n",
      " 7   법정동명      573680 non-null  object \n",
      " 8   도로명주소     573680 non-null  object \n",
      " 9   경도        573680 non-null  float64\n",
      " 10  위도        573680 non-null  float64\n",
      "dtypes: float64(2), object(9)\n",
      "memory usage: 48.1+ MB\n"
     ]
    }
   ],
   "source": [
    "# 제거 후 메모리 사용량 보기\n",
    "df.info()"
   ]
  },
  {
   "cell_type": "markdown",
   "metadata": {
    "id": "eHEVPOn0yH8z"
   },
   "source": [
    "## 색인으로 서브셋 가져오기\n",
    "### 서울만 따로 보기"
   ]
  },
  {
   "cell_type": "code",
   "execution_count": 24,
   "metadata": {
    "id": "JEthcP8PyH8z"
   },
   "outputs": [
    {
     "data": {
      "text/html": [
       "<div>\n",
       "<style scoped>\n",
       "    .dataframe tbody tr th:only-of-type {\n",
       "        vertical-align: middle;\n",
       "    }\n",
       "\n",
       "    .dataframe tbody tr th {\n",
       "        vertical-align: top;\n",
       "    }\n",
       "\n",
       "    .dataframe thead th {\n",
       "        text-align: right;\n",
       "    }\n",
       "</style>\n",
       "<table border=\"1\" class=\"dataframe\">\n",
       "  <thead>\n",
       "    <tr style=\"text-align: right;\">\n",
       "      <th></th>\n",
       "      <th>상호명</th>\n",
       "      <th>상권업종대분류명</th>\n",
       "      <th>상권업종중분류명</th>\n",
       "      <th>상권업종소분류명</th>\n",
       "      <th>시도명</th>\n",
       "      <th>시군구명</th>\n",
       "      <th>행정동명</th>\n",
       "      <th>법정동명</th>\n",
       "      <th>도로명주소</th>\n",
       "      <th>경도</th>\n",
       "      <th>위도</th>\n",
       "    </tr>\n",
       "  </thead>\n",
       "  <tbody>\n",
       "    <tr>\n",
       "      <th>0</th>\n",
       "      <td>와라와라호프</td>\n",
       "      <td>음식</td>\n",
       "      <td>유흥주점</td>\n",
       "      <td>호프/맥주</td>\n",
       "      <td>서울특별시</td>\n",
       "      <td>강남구</td>\n",
       "      <td>대치1동</td>\n",
       "      <td>대치동</td>\n",
       "      <td>서울특별시 강남구 남부순환로 2933</td>\n",
       "      <td>127.061026</td>\n",
       "      <td>37.493922</td>\n",
       "    </tr>\n",
       "    <tr>\n",
       "      <th>1</th>\n",
       "      <td>커피빈코리아선릉로93길점</td>\n",
       "      <td>음식</td>\n",
       "      <td>커피점/카페</td>\n",
       "      <td>커피전문점/카페/다방</td>\n",
       "      <td>서울특별시</td>\n",
       "      <td>강남구</td>\n",
       "      <td>역삼1동</td>\n",
       "      <td>역삼동</td>\n",
       "      <td>서울특별시 강남구 선릉로93길 6</td>\n",
       "      <td>127.047883</td>\n",
       "      <td>37.505675</td>\n",
       "    </tr>\n",
       "    <tr>\n",
       "      <th>2</th>\n",
       "      <td>프로포즈</td>\n",
       "      <td>음식</td>\n",
       "      <td>유흥주점</td>\n",
       "      <td>호프/맥주</td>\n",
       "      <td>서울특별시</td>\n",
       "      <td>금천구</td>\n",
       "      <td>독산3동</td>\n",
       "      <td>독산동</td>\n",
       "      <td>서울특별시 금천구 가산로 34-6</td>\n",
       "      <td>126.899220</td>\n",
       "      <td>37.471711</td>\n",
       "    </tr>\n",
       "    <tr>\n",
       "      <th>4</th>\n",
       "      <td>가락사우나내스낵</td>\n",
       "      <td>생활서비스</td>\n",
       "      <td>대중목욕탕/휴게</td>\n",
       "      <td>사우나/증기탕/온천</td>\n",
       "      <td>서울특별시</td>\n",
       "      <td>송파구</td>\n",
       "      <td>석촌동</td>\n",
       "      <td>석촌동</td>\n",
       "      <td>서울특별시 송파구 가락로 71</td>\n",
       "      <td>127.104071</td>\n",
       "      <td>37.500249</td>\n",
       "    </tr>\n",
       "    <tr>\n",
       "      <th>5</th>\n",
       "      <td>초밥왕</td>\n",
       "      <td>음식</td>\n",
       "      <td>일식/수산물</td>\n",
       "      <td>음식점-초밥전문</td>\n",
       "      <td>서울특별시</td>\n",
       "      <td>송파구</td>\n",
       "      <td>잠실6동</td>\n",
       "      <td>신천동</td>\n",
       "      <td>서울특별시 송파구 올림픽로 293-19</td>\n",
       "      <td>127.102490</td>\n",
       "      <td>37.515149</td>\n",
       "    </tr>\n",
       "    <tr>\n",
       "      <th>...</th>\n",
       "      <td>...</td>\n",
       "      <td>...</td>\n",
       "      <td>...</td>\n",
       "      <td>...</td>\n",
       "      <td>...</td>\n",
       "      <td>...</td>\n",
       "      <td>...</td>\n",
       "      <td>...</td>\n",
       "      <td>...</td>\n",
       "      <td>...</td>\n",
       "      <td>...</td>\n",
       "    </tr>\n",
       "    <tr>\n",
       "      <th>573675</th>\n",
       "      <td>비파티세리공덕</td>\n",
       "      <td>음식</td>\n",
       "      <td>한식</td>\n",
       "      <td>한식/백반/한정식</td>\n",
       "      <td>서울특별시</td>\n",
       "      <td>마포구</td>\n",
       "      <td>공덕동</td>\n",
       "      <td>공덕동</td>\n",
       "      <td>서울특별시 마포구 마포대로14길 4</td>\n",
       "      <td>126.955059</td>\n",
       "      <td>37.548618</td>\n",
       "    </tr>\n",
       "    <tr>\n",
       "      <th>573676</th>\n",
       "      <td>앤탑PC방</td>\n",
       "      <td>관광/여가/오락</td>\n",
       "      <td>PC/오락/당구/볼링등</td>\n",
       "      <td>인터넷PC방</td>\n",
       "      <td>서울특별시</td>\n",
       "      <td>성동구</td>\n",
       "      <td>성수2가3동</td>\n",
       "      <td>성수동2가</td>\n",
       "      <td>서울특별시 성동구 성수일로8길 37</td>\n",
       "      <td>127.054615</td>\n",
       "      <td>37.545853</td>\n",
       "    </tr>\n",
       "    <tr>\n",
       "      <th>573677</th>\n",
       "      <td>오즈아레나PC방</td>\n",
       "      <td>관광/여가/오락</td>\n",
       "      <td>PC/오락/당구/볼링등</td>\n",
       "      <td>인터넷PC방</td>\n",
       "      <td>서울특별시</td>\n",
       "      <td>강남구</td>\n",
       "      <td>논현1동</td>\n",
       "      <td>논현동</td>\n",
       "      <td>서울특별시 강남구 강남대로 492</td>\n",
       "      <td>127.024102</td>\n",
       "      <td>37.506202</td>\n",
       "    </tr>\n",
       "    <tr>\n",
       "      <th>573678</th>\n",
       "      <td>파인트리네일</td>\n",
       "      <td>생활서비스</td>\n",
       "      <td>이/미용/건강</td>\n",
       "      <td>발/네일케어</td>\n",
       "      <td>서울특별시</td>\n",
       "      <td>영등포구</td>\n",
       "      <td>여의동</td>\n",
       "      <td>여의도동</td>\n",
       "      <td>서울특별시 영등포구 국제금융로 10</td>\n",
       "      <td>126.924863</td>\n",
       "      <td>37.525172</td>\n",
       "    </tr>\n",
       "    <tr>\n",
       "      <th>573679</th>\n",
       "      <td>마이리틀네일</td>\n",
       "      <td>생활서비스</td>\n",
       "      <td>이/미용/건강</td>\n",
       "      <td>발/네일케어</td>\n",
       "      <td>서울특별시</td>\n",
       "      <td>도봉구</td>\n",
       "      <td>창1동</td>\n",
       "      <td>창동</td>\n",
       "      <td>서울특별시 도봉구 도봉로114길 22-8</td>\n",
       "      <td>127.035145</td>\n",
       "      <td>37.647099</td>\n",
       "    </tr>\n",
       "  </tbody>\n",
       "</table>\n",
       "<p>407376 rows × 11 columns</p>\n",
       "</div>"
      ],
      "text/plain": [
       "                  상호명  상권업종대분류명      상권업종중분류명     상권업종소분류명    시도명  시군구명  \\\n",
       "0              와라와라호프        음식          유흥주점        호프/맥주  서울특별시   강남구   \n",
       "1       커피빈코리아선릉로93길점        음식        커피점/카페  커피전문점/카페/다방  서울특별시   강남구   \n",
       "2                프로포즈        음식          유흥주점        호프/맥주  서울특별시   금천구   \n",
       "4            가락사우나내스낵     생활서비스      대중목욕탕/휴게   사우나/증기탕/온천  서울특별시   송파구   \n",
       "5                 초밥왕        음식        일식/수산물     음식점-초밥전문  서울특별시   송파구   \n",
       "...               ...       ...           ...          ...    ...   ...   \n",
       "573675        비파티세리공덕        음식            한식    한식/백반/한정식  서울특별시   마포구   \n",
       "573676          앤탑PC방  관광/여가/오락  PC/오락/당구/볼링등       인터넷PC방  서울특별시   성동구   \n",
       "573677       오즈아레나PC방  관광/여가/오락  PC/오락/당구/볼링등       인터넷PC방  서울특별시   강남구   \n",
       "573678         파인트리네일     생활서비스       이/미용/건강       발/네일케어  서울특별시  영등포구   \n",
       "573679         마이리틀네일     생활서비스       이/미용/건강       발/네일케어  서울특별시   도봉구   \n",
       "\n",
       "          행정동명   법정동명                   도로명주소          경도         위도  \n",
       "0         대치1동    대치동    서울특별시 강남구 남부순환로 2933  127.061026  37.493922  \n",
       "1         역삼1동    역삼동      서울특별시 강남구 선릉로93길 6  127.047883  37.505675  \n",
       "2         독산3동    독산동      서울특별시 금천구 가산로 34-6  126.899220  37.471711  \n",
       "4          석촌동    석촌동        서울특별시 송파구 가락로 71  127.104071  37.500249  \n",
       "5         잠실6동    신천동   서울특별시 송파구 올림픽로 293-19  127.102490  37.515149  \n",
       "...        ...    ...                     ...         ...        ...  \n",
       "573675     공덕동    공덕동     서울특별시 마포구 마포대로14길 4  126.955059  37.548618  \n",
       "573676  성수2가3동  성수동2가     서울특별시 성동구 성수일로8길 37  127.054615  37.545853  \n",
       "573677    논현1동    논현동      서울특별시 강남구 강남대로 492  127.024102  37.506202  \n",
       "573678     여의동   여의도동     서울특별시 영등포구 국제금융로 10  126.924863  37.525172  \n",
       "573679     창1동     창동  서울특별시 도봉구 도봉로114길 22-8  127.035145  37.647099  \n",
       "\n",
       "[407376 rows x 11 columns]"
      ]
     },
     "execution_count": 24,
     "metadata": {},
     "output_type": "execute_result"
    }
   ],
   "source": [
    "# 시도명이 서울로 시작하는 데이터만 봅니다.\n",
    "# 또, df_seoul 이라는 변수에 결과를 저장합니다.\n",
    "# 새로운 변수에 데이터프레임을 할당할 때 copy()를 사용하는 것을 권장합니다.\n",
    "\n",
    "df_seoul = df[df['시도명']=='서울특별시'].copy()\n",
    "df_seoul"
   ]
  },
  {
   "cell_type": "code",
   "execution_count": 27,
   "metadata": {
    "id": "4DMBJwLNyH80"
   },
   "outputs": [
    {
     "data": {
      "text/plain": [
       "array(['강남구', '금천구', '송파구', '광진구', '강서구', '중구', '서초구', '성북구', '구로구',\n",
       "       '영등포구', '서대문구', '동대문구', '노원구', '동작구', '성동구', '관악구', '강동구', '양천구',\n",
       "       '종로구', '강북구', '은평구', '중랑구', '도봉구', '마포구', '용산구'], dtype=object)"
      ]
     },
     "execution_count": 27,
     "metadata": {},
     "output_type": "execute_result"
    }
   ],
   "source": [
    "# unique 를 사용하면 중복을 제거한 시군구명을 가져옵니다. \n",
    "# 그리고 shape로 갯수를 출력해 봅니다.\n",
    "\n",
    "df_seoul['시군구명'].unique()"
   ]
  },
  {
   "cell_type": "code",
   "execution_count": 28,
   "metadata": {
    "id": "kFoJIYh_yH80"
   },
   "outputs": [
    {
     "data": {
      "text/plain": [
       "25"
      ]
     },
     "execution_count": 28,
     "metadata": {},
     "output_type": "execute_result"
    }
   ],
   "source": [
    "# nunique 를 사용하면 중복을 제거한 시군구명의 갯수를 세어줍니다.\n",
    "df_seoul['시군구명'].nunique()"
   ]
  },
  {
   "cell_type": "markdown",
   "metadata": {
    "id": "4CRFwg9IyH80"
   },
   "source": [
    "## 파일로 저장하기\n",
    "* 전처리한 파일을 저장해 두면 재사용을 할 수 있습니다.\n",
    "* 재사용을 위해 파일로 저장합니다."
   ]
  },
  {
   "cell_type": "code",
   "execution_count": 29,
   "metadata": {
    "id": "eRSXmLzvyH80"
   },
   "outputs": [],
   "source": [
    "# \"seoul_open_store.csv\" 라는 이름으로 저장합니다.\n",
    "df_seoul.to_csv(\"seoul_open_store.csv\", index = False)"
   ]
  },
  {
   "cell_type": "code",
   "execution_count": 31,
   "metadata": {
    "id": "-QQgyOORyH80"
   },
   "outputs": [
    {
     "data": {
      "text/html": [
       "<div>\n",
       "<style scoped>\n",
       "    .dataframe tbody tr th:only-of-type {\n",
       "        vertical-align: middle;\n",
       "    }\n",
       "\n",
       "    .dataframe tbody tr th {\n",
       "        vertical-align: top;\n",
       "    }\n",
       "\n",
       "    .dataframe thead th {\n",
       "        text-align: right;\n",
       "    }\n",
       "</style>\n",
       "<table border=\"1\" class=\"dataframe\">\n",
       "  <thead>\n",
       "    <tr style=\"text-align: right;\">\n",
       "      <th></th>\n",
       "      <th>상호명</th>\n",
       "      <th>상권업종대분류명</th>\n",
       "      <th>상권업종중분류명</th>\n",
       "      <th>상권업종소분류명</th>\n",
       "      <th>시도명</th>\n",
       "      <th>시군구명</th>\n",
       "      <th>행정동명</th>\n",
       "      <th>법정동명</th>\n",
       "      <th>도로명주소</th>\n",
       "      <th>경도</th>\n",
       "      <th>위도</th>\n",
       "    </tr>\n",
       "  </thead>\n",
       "  <tbody>\n",
       "    <tr>\n",
       "      <th>0</th>\n",
       "      <td>와라와라호프</td>\n",
       "      <td>음식</td>\n",
       "      <td>유흥주점</td>\n",
       "      <td>호프/맥주</td>\n",
       "      <td>서울특별시</td>\n",
       "      <td>강남구</td>\n",
       "      <td>대치1동</td>\n",
       "      <td>대치동</td>\n",
       "      <td>서울특별시 강남구 남부순환로 2933</td>\n",
       "      <td>127.061026</td>\n",
       "      <td>37.493922</td>\n",
       "    </tr>\n",
       "    <tr>\n",
       "      <th>1</th>\n",
       "      <td>커피빈코리아선릉로93길점</td>\n",
       "      <td>음식</td>\n",
       "      <td>커피점/카페</td>\n",
       "      <td>커피전문점/카페/다방</td>\n",
       "      <td>서울특별시</td>\n",
       "      <td>강남구</td>\n",
       "      <td>역삼1동</td>\n",
       "      <td>역삼동</td>\n",
       "      <td>서울특별시 강남구 선릉로93길 6</td>\n",
       "      <td>127.047883</td>\n",
       "      <td>37.505675</td>\n",
       "    </tr>\n",
       "    <tr>\n",
       "      <th>2</th>\n",
       "      <td>프로포즈</td>\n",
       "      <td>음식</td>\n",
       "      <td>유흥주점</td>\n",
       "      <td>호프/맥주</td>\n",
       "      <td>서울특별시</td>\n",
       "      <td>금천구</td>\n",
       "      <td>독산3동</td>\n",
       "      <td>독산동</td>\n",
       "      <td>서울특별시 금천구 가산로 34-6</td>\n",
       "      <td>126.899220</td>\n",
       "      <td>37.471711</td>\n",
       "    </tr>\n",
       "    <tr>\n",
       "      <th>3</th>\n",
       "      <td>가락사우나내스낵</td>\n",
       "      <td>생활서비스</td>\n",
       "      <td>대중목욕탕/휴게</td>\n",
       "      <td>사우나/증기탕/온천</td>\n",
       "      <td>서울특별시</td>\n",
       "      <td>송파구</td>\n",
       "      <td>석촌동</td>\n",
       "      <td>석촌동</td>\n",
       "      <td>서울특별시 송파구 가락로 71</td>\n",
       "      <td>127.104071</td>\n",
       "      <td>37.500249</td>\n",
       "    </tr>\n",
       "    <tr>\n",
       "      <th>4</th>\n",
       "      <td>초밥왕</td>\n",
       "      <td>음식</td>\n",
       "      <td>일식/수산물</td>\n",
       "      <td>음식점-초밥전문</td>\n",
       "      <td>서울특별시</td>\n",
       "      <td>송파구</td>\n",
       "      <td>잠실6동</td>\n",
       "      <td>신천동</td>\n",
       "      <td>서울특별시 송파구 올림픽로 293-19</td>\n",
       "      <td>127.102490</td>\n",
       "      <td>37.515149</td>\n",
       "    </tr>\n",
       "  </tbody>\n",
       "</table>\n",
       "</div>"
      ],
      "text/plain": [
       "             상호명 상권업종대분류명  상권업종중분류명     상권업종소분류명    시도명 시군구명  행정동명 법정동명  \\\n",
       "0         와라와라호프       음식      유흥주점        호프/맥주  서울특별시  강남구  대치1동  대치동   \n",
       "1  커피빈코리아선릉로93길점       음식    커피점/카페  커피전문점/카페/다방  서울특별시  강남구  역삼1동  역삼동   \n",
       "2           프로포즈       음식      유흥주점        호프/맥주  서울특별시  금천구  독산3동  독산동   \n",
       "3       가락사우나내스낵    생활서비스  대중목욕탕/휴게   사우나/증기탕/온천  서울특별시  송파구   석촌동  석촌동   \n",
       "4            초밥왕       음식    일식/수산물     음식점-초밥전문  서울특별시  송파구  잠실6동  신천동   \n",
       "\n",
       "                   도로명주소          경도         위도  \n",
       "0   서울특별시 강남구 남부순환로 2933  127.061026  37.493922  \n",
       "1     서울특별시 강남구 선릉로93길 6  127.047883  37.505675  \n",
       "2     서울특별시 금천구 가산로 34-6  126.899220  37.471711  \n",
       "3       서울특별시 송파구 가락로 71  127.104071  37.500249  \n",
       "4  서울특별시 송파구 올림픽로 293-19  127.102490  37.515149  "
      ]
     },
     "execution_count": 31,
     "metadata": {},
     "output_type": "execute_result"
    }
   ],
   "source": [
    "# 제대로 저장이 되었는지 같은 파일을 불러와서 확인합니다.\n",
    "df_seoul = pd.read_csv(\"./seoul_open_store.csv\")\n",
    "df_seoul.head()"
   ]
  },
  {
   "cell_type": "markdown",
   "metadata": {
    "id": "qdD5q4IYyH80"
   },
   "source": [
    "## 배스킨라빈스, 던킨도너츠 위치 분석\n",
    "\n",
    "### 특정 상호만 가져오기\n",
    "* 여기에서는 배스킨라빈스와 던킨도너츠 상호를 가져와서 실습합니다.\n",
    "* 위에서 pandas의 str.conatains를 활용해 봅니다.\n",
    "* https://pandas.pydata.org/docs/user_guide/text.html#testing-for-strings-that-match-or-contain-a-pattern\n",
    "\n",
    "* 상호명에서 브랜드명을 추출합니다.\n",
    "* 대소문자가 섞여 있을 수도 있기 때문에 대소문자를 변환해 줍니다.\n",
    "* 오타를 방지하기 위해 배스킨라빈스의 영문명은 baskinrobbins, 던킨도너츠는 dunkindonuts 입니다."
   ]
  },
  {
   "cell_type": "code",
   "execution_count": 32,
   "metadata": {
    "id": "SBsizoybyH80"
   },
   "outputs": [],
   "source": [
    "# 문자열의 소문자로 변경하는 메소드를 사용합니다.\n",
    "# \"상호명_소문자\" 컬럼을 만듭니다.\n",
    "\n",
    "df_seoul['상호명_소문자'] = df_seoul['상호명'].str.lower()"
   ]
  },
  {
   "cell_type": "code",
   "execution_count": 40,
   "metadata": {
    "id": "rNPfU3PXyH81"
   },
   "outputs": [
    {
     "data": {
      "text/plain": [
       "배스킨라빈스    347\n",
       "baskin      2\n",
       "dtype: int64"
      ]
     },
     "execution_count": 40,
     "metadata": {},
     "output_type": "execute_result"
    }
   ],
   "source": [
    "# baskinrobbins 를 \"상호명_소문자\" 컬럼으로 가져옵니다.\n",
    "# 띄어쓰기 등의 다를 수 있기 때문에 앞글자 baskin 만 따서 가져오도록 합니다.\n",
    "# '상호명_소문자'컬럼으로 '배스킨라빈스|baskin' 를 가져와 갯수를 세어봅니다.\n",
    "# loc[행]\n",
    "# loc[행, 열]\n",
    "df_seoul[\"상호명_소문자\"].str.extract(\"(배스킨라빈스|baskin)\").value_counts()\n"
   ]
  },
  {
   "cell_type": "code",
   "execution_count": 43,
   "metadata": {},
   "outputs": [
    {
     "data": {
      "text/plain": [
       "(466,)"
      ]
     },
     "execution_count": 43,
     "metadata": {},
     "output_type": "execute_result"
    }
   ],
   "source": [
    "df_seoul.loc[df_seoul[\"상호명_소문자\"].str.contains(\"배스킨라빈스|베스킨라빈스|baskinrobbins\"), \"상호명_소문자\"].shape"
   ]
  },
  {
   "cell_type": "code",
   "execution_count": 44,
   "metadata": {
    "id": "xOU900VTyH81"
   },
   "outputs": [
    {
     "data": {
      "text/plain": [
       "(191,)"
      ]
     },
     "execution_count": 44,
     "metadata": {},
     "output_type": "execute_result"
    }
   ],
   "source": [
    "# 상호명에서 던킨도너츠만 가져옵니다.\n",
    "# 상호명은 소문자로 변경해 준 컬럼을 사용합니다.\n",
    "# 던킨|dunkin 의 \"상호명_소문자\"로 갯수를 세어봅니다.\n",
    "\n",
    "df_seoul.loc[df_seoul['상호명_소문자'].str.contains(\"던킨|dunkin\"), \"상호명_소문자\"].shape\n"
   ]
  },
  {
   "cell_type": "code",
   "execution_count": 56,
   "metadata": {
    "id": "IAvzhHwuyH81"
   },
   "outputs": [
    {
     "data": {
      "text/plain": [
       "(657, 12)"
      ]
     },
     "execution_count": 56,
     "metadata": {},
     "output_type": "execute_result"
    }
   ],
   "source": [
    "# '상호명_소문자'컬럼으로  '배스킨|베스킨|baskin|던킨|dunkin'를 가져와 df_31 변수에 담습니다.\n",
    "df_31 = df_seoul[df_seoul[\"상호명_소문자\"].str.contains(\n",
    "    '배스킨라빈스|베스킨라빈스|baskinrobbins|던킨|dunkin')].copy()\n",
    "df_31.shape"
   ]
  },
  {
   "cell_type": "code",
   "execution_count": null,
   "metadata": {
    "id": "tKW71bB-yH81"
   },
   "outputs": [],
   "source": [
    "# ~은 not을 의미합니다. 베스킨라빈스가 아닌 데이터를 찾을 때 사용하면 좋습니다.\n",
    "# 아래 코드처럼 결측치를 던킨도너츠로 채워줘도 괜찮습니다.\n"
   ]
  },
  {
   "cell_type": "code",
   "execution_count": 59,
   "metadata": {
    "id": "LtW_yNLZyH81"
   },
   "outputs": [
    {
     "data": {
      "text/html": [
       "<div>\n",
       "<style scoped>\n",
       "    .dataframe tbody tr th:only-of-type {\n",
       "        vertical-align: middle;\n",
       "    }\n",
       "\n",
       "    .dataframe tbody tr th {\n",
       "        vertical-align: top;\n",
       "    }\n",
       "\n",
       "    .dataframe thead th {\n",
       "        text-align: right;\n",
       "    }\n",
       "</style>\n",
       "<table border=\"1\" class=\"dataframe\">\n",
       "  <thead>\n",
       "    <tr style=\"text-align: right;\">\n",
       "      <th></th>\n",
       "      <th>상호명</th>\n",
       "      <th>브랜드명</th>\n",
       "    </tr>\n",
       "  </thead>\n",
       "  <tbody>\n",
       "    <tr>\n",
       "      <th>59</th>\n",
       "      <td>배스킨라빈스</td>\n",
       "      <td>배스킨라빈스</td>\n",
       "    </tr>\n",
       "    <tr>\n",
       "      <th>831</th>\n",
       "      <td>던킨도너츠</td>\n",
       "      <td>NaN</td>\n",
       "    </tr>\n",
       "    <tr>\n",
       "      <th>1313</th>\n",
       "      <td>던킨도너츠테크노마트점</td>\n",
       "      <td>NaN</td>\n",
       "    </tr>\n",
       "    <tr>\n",
       "      <th>1578</th>\n",
       "      <td>베스킨라빈스</td>\n",
       "      <td>배스킨라빈스</td>\n",
       "    </tr>\n",
       "    <tr>\n",
       "      <th>1652</th>\n",
       "      <td>던킨도너츠창동하나로</td>\n",
       "      <td>NaN</td>\n",
       "    </tr>\n",
       "  </tbody>\n",
       "</table>\n",
       "</div>"
      ],
      "text/plain": [
       "              상호명    브랜드명\n",
       "59         배스킨라빈스  배스킨라빈스\n",
       "831         던킨도너츠     NaN\n",
       "1313  던킨도너츠테크노마트점     NaN\n",
       "1578       베스킨라빈스  배스킨라빈스\n",
       "1652   던킨도너츠창동하나로     NaN"
      ]
     },
     "execution_count": 59,
     "metadata": {},
     "output_type": "execute_result"
    }
   ],
   "source": [
    "# 'df_31에 담긴 상호명','브랜드명'으로 미리보기를 합니다.\n",
    "# df_31.loc[~df_31[\"상호명_소문자\"].str.contains(\"배스킨라빈스|베스킨라빈스|baskinrobbins\"), \n",
    "#           \"브랜드명\"]\n",
    "df_31.loc[df_31[\"상호명_소문자\"].str.contains(\"배스킨라빈스|베스킨라빈스|baskinrobbins\"), \n",
    "          \"브랜드명\"] = \"배스킨라빈스\"\n",
    "df_31[[\"상호명\",\"브랜드명\"]].head()"
   ]
  },
  {
   "cell_type": "code",
   "execution_count": 60,
   "metadata": {},
   "outputs": [
    {
     "data": {
      "text/plain": [
       "59        배스킨라빈스\n",
       "831        던킨도너츠\n",
       "1313       던킨도너츠\n",
       "1578      배스킨라빈스\n",
       "1652       던킨도너츠\n",
       "           ...  \n",
       "396623     던킨도너츠\n",
       "398080     던킨도너츠\n",
       "398781    배스킨라빈스\n",
       "398782    배스킨라빈스\n",
       "404507     던킨도너츠\n",
       "Name: 브랜드명, Length: 657, dtype: object"
      ]
     },
     "execution_count": 60,
     "metadata": {},
     "output_type": "execute_result"
    }
   ],
   "source": [
    "df_31['브랜드명'] = df_31['브랜드명'].fillna(\"던킨도너츠\")\n",
    "df_31[\"브랜드명\"]"
   ]
  },
  {
   "cell_type": "code",
   "execution_count": 61,
   "metadata": {
    "id": "b9W1kZ3nyH81"
   },
   "outputs": [
    {
     "data": {
      "text/plain": [
       "음식       655\n",
       "생활서비스      1\n",
       "소매         1\n",
       "Name: 상권업종대분류명, dtype: int64"
      ]
     },
     "execution_count": 61,
     "metadata": {},
     "output_type": "execute_result"
    }
   ],
   "source": [
    "# 데이터가 제대로 모아졌는지 확인합니다.\n",
    "# \"상권업종대분류명\"을  value_counts 를 통해 빈도수를 계산합니다.\n",
    "\n",
    "df_31['상권업종대분류명'].value_counts()"
   ]
  },
  {
   "cell_type": "code",
   "execution_count": 63,
   "metadata": {
    "id": "elUPqm2zyH82",
    "scrolled": true
   },
   "outputs": [
    {
     "data": {
      "text/html": [
       "<div>\n",
       "<style scoped>\n",
       "    .dataframe tbody tr th:only-of-type {\n",
       "        vertical-align: middle;\n",
       "    }\n",
       "\n",
       "    .dataframe tbody tr th {\n",
       "        vertical-align: top;\n",
       "    }\n",
       "\n",
       "    .dataframe thead th {\n",
       "        text-align: right;\n",
       "    }\n",
       "</style>\n",
       "<table border=\"1\" class=\"dataframe\">\n",
       "  <thead>\n",
       "    <tr style=\"text-align: right;\">\n",
       "      <th></th>\n",
       "      <th>상호명</th>\n",
       "      <th>상권업종대분류명</th>\n",
       "      <th>상권업종중분류명</th>\n",
       "      <th>상권업종소분류명</th>\n",
       "      <th>시도명</th>\n",
       "      <th>시군구명</th>\n",
       "      <th>행정동명</th>\n",
       "      <th>법정동명</th>\n",
       "      <th>도로명주소</th>\n",
       "      <th>경도</th>\n",
       "      <th>위도</th>\n",
       "      <th>상호명_소문자</th>\n",
       "      <th>브랜드명</th>\n",
       "    </tr>\n",
       "  </thead>\n",
       "  <tbody>\n",
       "    <tr>\n",
       "      <th>252466</th>\n",
       "      <td>배스킨라빈스</td>\n",
       "      <td>소매</td>\n",
       "      <td>종합소매점</td>\n",
       "      <td>할인점</td>\n",
       "      <td>서울특별시</td>\n",
       "      <td>강남구</td>\n",
       "      <td>압구정동</td>\n",
       "      <td>신사동</td>\n",
       "      <td>서울특별시 강남구 압구정로 204</td>\n",
       "      <td>127.029381</td>\n",
       "      <td>37.527375</td>\n",
       "      <td>배스킨라빈스</td>\n",
       "      <td>배스킨라빈스</td>\n",
       "    </tr>\n",
       "    <tr>\n",
       "      <th>395221</th>\n",
       "      <td>baskinrobbins</td>\n",
       "      <td>생활서비스</td>\n",
       "      <td>광고/인쇄</td>\n",
       "      <td>인쇄종합</td>\n",
       "      <td>서울특별시</td>\n",
       "      <td>강남구</td>\n",
       "      <td>역삼1동</td>\n",
       "      <td>역삼동</td>\n",
       "      <td>서울특별시 강남구 강남대로 396</td>\n",
       "      <td>127.028289</td>\n",
       "      <td>37.498154</td>\n",
       "      <td>baskinrobbins</td>\n",
       "      <td>배스킨라빈스</td>\n",
       "    </tr>\n",
       "  </tbody>\n",
       "</table>\n",
       "</div>"
      ],
      "text/plain": [
       "                  상호명 상권업종대분류명 상권업종중분류명 상권업종소분류명    시도명 시군구명  행정동명 법정동명  \\\n",
       "252466         배스킨라빈스       소매    종합소매점      할인점  서울특별시  강남구  압구정동  신사동   \n",
       "395221  baskinrobbins    생활서비스    광고/인쇄     인쇄종합  서울특별시  강남구  역삼1동  역삼동   \n",
       "\n",
       "                     도로명주소          경도         위도        상호명_소문자    브랜드명  \n",
       "252466  서울특별시 강남구 압구정로 204  127.029381  37.527375         배스킨라빈스  배스킨라빈스  \n",
       "395221  서울특별시 강남구 강남대로 396  127.028289  37.498154  baskinrobbins  배스킨라빈스  "
      ]
     },
     "execution_count": 63,
     "metadata": {},
     "output_type": "execute_result"
    }
   ],
   "source": [
    "# \"상권업종대분류명\"컬럼에서 isin 기능을 사용해서 \"소매\", \"생활서비스\" 인 데이터만 가져옵니다.\n",
    "\n",
    "df_31[df_31['상권업종대분류명'].isin([\"소매\",\"생활서비스\"])]"
   ]
  },
  {
   "cell_type": "code",
   "execution_count": 65,
   "metadata": {
    "id": "Bwof0e1pyH82"
   },
   "outputs": [
    {
     "data": {
      "text/plain": [
       "(655, 13)"
      ]
     },
     "execution_count": 65,
     "metadata": {},
     "output_type": "execute_result"
    }
   ],
   "source": [
    "# \"상권업종대분류명\"에서 \"소매\", \"생활서비스\"는 제외합니다.\n",
    "df_31 = df_31[~df_31['상권업종대분류명'].isin([\"소매\",\"생활서비스\"])].copy()\n",
    "df_31.shape"
   ]
  },
  {
   "cell_type": "markdown",
   "metadata": {
    "id": "66r_hYQWyH82"
   },
   "source": [
    "### 범주형 값으로 countplot 그리기"
   ]
  },
  {
   "cell_type": "code",
   "execution_count": 69,
   "metadata": {
    "id": "dCamEXUcyH82"
   },
   "outputs": [
    {
     "data": {
      "text/plain": [
       "배스킨라빈스    464\n",
       "던킨도너츠     191\n",
       "Name: 브랜드명, dtype: int64"
      ]
     },
     "execution_count": 69,
     "metadata": {},
     "output_type": "execute_result"
    }
   ],
   "source": [
    "# value_counts 로 \"브랜드명\"의 빈도수를 구합니다.\n",
    "\n",
    "brand_count = df_31['브랜드명'].value_counts()\n",
    "brand_count"
   ]
  },
  {
   "cell_type": "code",
   "execution_count": 71,
   "metadata": {
    "id": "j9PVd9InyH82"
   },
   "outputs": [
    {
     "data": {
      "text/plain": [
       "배스킨라빈스    0.708397\n",
       "던킨도너츠     0.291603\n",
       "Name: 브랜드명, dtype: float64"
      ]
     },
     "execution_count": 71,
     "metadata": {},
     "output_type": "execute_result"
    }
   ],
   "source": [
    "# normalize=True 로 빈도수의 비율을 구합니다.\n",
    "df_31['브랜드명'].value_counts(normalize = True)"
   ]
  },
  {
   "cell_type": "code",
   "execution_count": 75,
   "metadata": {
    "id": "VFakSmuPyH82"
   },
   "outputs": [
    {
     "data": {
      "text/plain": [
       "Index(['배스킨라빈스', '던킨도너츠'], dtype='object')"
      ]
     },
     "execution_count": 75,
     "metadata": {},
     "output_type": "execute_result"
    }
   ],
   "source": [
    "brand_count.index"
   ]
  },
  {
   "cell_type": "code",
   "execution_count": 78,
   "metadata": {},
   "outputs": [
    {
     "data": {
      "text/plain": [
       "배스킨라빈스    464\n",
       "던킨도너츠     191\n",
       "Name: 브랜드명, dtype: int64"
      ]
     },
     "execution_count": 78,
     "metadata": {},
     "output_type": "execute_result"
    }
   ],
   "source": [
    "brand_count"
   ]
  },
  {
   "cell_type": "code",
   "execution_count": 83,
   "metadata": {
    "id": "jtKUgu13yH82"
   },
   "outputs": [
    {
     "data": {
      "image/png": "[encoded data removed]",
      "text/plain": [
       "<Figure size 432x288 with 1 Axes>"
      ]
     },
     "metadata": {
      "image/png": {
       "height": 263,
       "width": 387
      },
      "needs_background": "light"
     },
     "output_type": "display_data"
    }
   ],
   "source": [
    "# countplot 을 그립니다.\n",
    "\n",
    "g = sns.countplot(data = df_31 , x = '브랜드명')\n",
    "for i, val in enumerate(brand_count.index):\n",
    "    g.text(x=i, y=brand_count[i], s=brand_count[i])"
   ]
  },
  {
   "cell_type": "code",
   "execution_count": 86,
   "metadata": {
    "id": "LliuaoCTyH82"
   },
   "outputs": [
    {
     "data": {
      "image/png": "[encoded data removed]",
      "text/plain": [
       "<Figure size 1080x720 with 1 Axes>"
      ]
     },
     "metadata": {
      "image/png": {
       "height": 590,
       "width": 883
      },
      "needs_background": "light"
     },
     "output_type": "display_data"
    }
   ],
   "source": [
    "# 시군구명으로 빈도수를 세고 브랜드명으로 색상을 다르게 표현하는 countplot 을 그립니다.\n",
    "plt.figure(figsize = ( 15, 10))\n",
    "g = sns.countplot(data = df_31, x ='시군구명', hue='브랜드명')"
   ]
  },
  {
   "cell_type": "markdown",
   "metadata": {
    "id": "pG2Crg3RyH82"
   },
   "source": [
    "### scatterplot 그리기"
   ]
  },
  {
   "cell_type": "markdown",
   "metadata": {
    "id": "_ckz2n2JyH82"
   },
   "source": [
    "* https://pandas.pydata.org/pandas-docs/stable/user_guide/visualization.html#scatter-plot"
   ]
  },
  {
   "cell_type": "code",
   "execution_count": null,
   "metadata": {
    "id": "FHpGna1GyH83"
   },
   "outputs": [],
   "source": [
    "# Pandas 의 plot 으로 scatterplot 을 그립니다.\n"
   ]
  },
  {
   "cell_type": "code",
   "execution_count": null,
   "metadata": {
    "id": "pFavHvIfyH83"
   },
   "outputs": [],
   "source": [
    "# seaborn의 scatterplot 으로 hue에 브랜드명을 지정해서 시각화 합니다.\n"
   ]
  },
  {
   "cell_type": "code",
   "execution_count": null,
   "metadata": {
    "id": "ao3H96QJyH83"
   },
   "outputs": [],
   "source": [
    "# 위에서 그렸던 그래프를 jointplot 으로 kind=\"hex\" 을 사용해 그려봅니다.\n"
   ]
  },
  {
   "cell_type": "markdown",
   "metadata": {
    "id": "4pvEid13yH83"
   },
   "source": [
    "## Folium 으로 지도 활용하기\n",
    "* 다음의 프롬프트 창을 열어 conda 명령어로 설치합니다.\n",
    "<img src=\"https://i.imgur.com/x7pzfCP.jpg\">\n",
    "* <font color=\"red\">주피터 노트북 상에서 설치가 되지 않으니</font> anaconda prompt 를 열어서 설치해 주세요.\n",
    "\n",
    "\n",
    "* 윈도우\n",
    "    * <font color=\"red\">관리자 권한</font>으로 아나콘다를 설치하셨다면 다음의 방법으로 anaconda prompt 를 열어 주세요.\n",
    "    <img src=\"https://i.imgur.com/GhoLwsd.png\">\n",
    "* 맥\n",
    "    * terminal 프로그램을 열어 설치해 주세요. \n",
    "\n",
    "\n",
    "* 다음의 문서를 활용해서 지도를 표현합니다.\n",
    "* https://nbviewer.jupyter.org/github/python-visualization/folium/blob/master/examples/Quickstart.ipynb\n",
    "* Folium 사용예제 :\n",
    "http://nbviewer.jupyter.org/github/python-visualization/folium/tree/master/examples/"
   ]
  },
  {
   "cell_type": "code",
   "execution_count": null,
   "metadata": {
    "id": "uKmiUjy0yH83"
   },
   "outputs": [],
   "source": [
    "# 아나콘다에서 folium 을 사용하기 위해서는 별도의 설치가 필요\n",
    "# https://anaconda.org/conda-forge/folium\n",
    "# conda install -c conda-forge folium \n",
    "# 지도 시각화를 위한 라이브러리\n"
   ]
  },
  {
   "cell_type": "code",
   "execution_count": null,
   "metadata": {
    "id": "wm6Emg7vyH83"
   },
   "outputs": [],
   "source": [
    "# 지도의 중심을 지정하기 위해 위도와 경도의 평균을 구합니다. \n"
   ]
  },
  {
   "cell_type": "code",
   "execution_count": null,
   "metadata": {
    "id": "UaXdj4Q6yH83"
   },
   "outputs": [],
   "source": [
    "# 샘플을 하나 추출해서 지도에 표시해 봅니다.\n",
    "\n"
   ]
  },
  {
   "cell_type": "code",
   "execution_count": null,
   "metadata": {
    "id": "CWRsGnt6yH84",
    "scrolled": true
   },
   "outputs": [],
   "source": [
    "# folium 사용법을 보고 일부 데이터를 출력해 봅니다.\n"
   ]
  },
  {
   "cell_type": "code",
   "execution_count": null,
   "metadata": {
    "id": "N8lJZJO5yH84"
   },
   "outputs": [],
   "source": [
    "# html 파일로 저장하기\n",
    "# tooltip 의 한글이 깨져보인다면 html 파일로 저장해서 보세요.\n"
   ]
  },
  {
   "cell_type": "markdown",
   "metadata": {
    "id": "Yc1lXLB6yH84"
   },
   "source": [
    "### 서울의 배스킨라빈스와 던킨도너츠 매장 분포\n",
    "* 배스킨라빈스와 던킨도너츠 매장을 지도에 표현합니다."
   ]
  },
  {
   "cell_type": "code",
   "execution_count": null,
   "metadata": {
    "id": "IDFJ4ZBmyH84"
   },
   "outputs": [],
   "source": [
    "# 데이터프레임의 인덱스만 출력합니다.\n"
   ]
  },
  {
   "cell_type": "markdown",
   "metadata": {
    "id": "W8qI7S84yH84"
   },
   "source": [
    "### 기본 마커로 표현하기"
   ]
  },
  {
   "cell_type": "code",
   "execution_count": null,
   "metadata": {
    "id": "HXefOBVdyH84"
   },
   "outputs": [],
   "source": [
    "# icon=folium.Icon(color=icon_color) 로 아이콘 컬러를 변경합니다.\n"
   ]
  },
  {
   "cell_type": "markdown",
   "metadata": {
    "id": "cOhTY3f7yH84"
   },
   "source": [
    "### MarkerCluster 로 표현하기\n",
    "* https://nbviewer.jupyter.org/github/python-visualization/folium/blob/master/examples/MarkerCluster.ipynb"
   ]
  },
  {
   "cell_type": "code",
   "execution_count": null,
   "metadata": {
    "id": "WvfYmQFLyH84"
   },
   "outputs": [],
   "source": [
    "# icon=folium.Icon(color=icon_color) 로 아이콘 컬러를 변경합니다.\n"
   ]
  },
  {
   "cell_type": "markdown",
   "metadata": {
    "id": "4f1OebdfyH85"
   },
   "source": [
    "## 파리바게뜨와 뚜레주르 분석하기"
   ]
  },
  {
   "cell_type": "markdown",
   "metadata": {
    "id": "v5nHEOvXyH85"
   },
   "source": [
    "### 데이터 색인으로 가져오기"
   ]
  },
  {
   "cell_type": "code",
   "execution_count": null,
   "metadata": {
    "id": "Yn0pbzGfyH85"
   },
   "outputs": [],
   "source": []
  },
  {
   "cell_type": "code",
   "execution_count": null,
   "metadata": {
    "id": "eKUO5sceyH85"
   },
   "outputs": [],
   "source": [
    "# str.contains 를 사용해서 뚜레(주|쥬)르|파리(바게|크라상) 으로 상호명을 찾습니다.\n",
    "# df_bread 라는 데이터프레임에 담습니다.\n"
   ]
  },
  {
   "cell_type": "markdown",
   "metadata": {
    "id": "o_btCCusyH85"
   },
   "source": [
    "### 가져온 데이터가 맞는지 확인하기"
   ]
  },
  {
   "cell_type": "code",
   "execution_count": null,
   "metadata": {
    "id": "9FTtUtF0yH85"
   },
   "outputs": [],
   "source": [
    "# 잘못 가져온 데이터가 있는지 확인합니다.\n"
   ]
  },
  {
   "cell_type": "code",
   "execution_count": null,
   "metadata": {
    "id": "cicoNMzXyH85"
   },
   "outputs": [],
   "source": [
    "# 제과점과 상관 없을 것 같은 상점을 추출합니다.\n"
   ]
  },
  {
   "cell_type": "code",
   "execution_count": null,
   "metadata": {
    "id": "VyXxPF3HyH85"
   },
   "outputs": [],
   "source": [
    "# \"상권업종대분류명\"이 \"학문/교육\"이 아닌 것만 가져옵니다.\n"
   ]
  },
  {
   "cell_type": "code",
   "execution_count": null,
   "metadata": {
    "id": "_pbG3-f9yH85"
   },
   "outputs": [],
   "source": [
    "# 상호명의 unique 값을 봅니다.\n"
   ]
  },
  {
   "cell_type": "code",
   "execution_count": null,
   "metadata": {
    "id": "ey5E6_5yyH85"
   },
   "outputs": [],
   "source": [
    "# 상호명이 '파스쿠찌|잠바주스'가 아닌 것만 가져오세요.\n",
    "\n"
   ]
  },
  {
   "cell_type": "code",
   "execution_count": null,
   "metadata": {
    "id": "ThBG5PvoyH86"
   },
   "outputs": [],
   "source": [
    "# 브랜드명 컬럼을 만듭니다. \"파리바게뜨\" 에 해당되는 데이터에 대한 값을 채워줍니다.\n",
    "# 파리크라상에 대한 처리를 따로 해주세요!\n",
    "df_bread.loc[df_bread[\"상호명\"].str.contains(\"파리크라상\"), \"브랜드명\"] = \"파리바게뜨\"\n"
   ]
  },
  {
   "cell_type": "code",
   "execution_count": null,
   "metadata": {
    "id": "qq8fXpaGyH86"
   },
   "outputs": [],
   "source": [
    "# 브랜드명 컬럼의 결측치는 \"뚜레쥬르\" 이기 때문에 fillna 를 사용해서 값을 채웁니다.\n"
   ]
  },
  {
   "cell_type": "markdown",
   "metadata": {
    "id": "RFvUQGGyyH86"
   },
   "source": [
    "### 범주형 변수 빈도수 계산하기"
   ]
  },
  {
   "cell_type": "code",
   "execution_count": null,
   "metadata": {
    "id": "DDq_2HRoyH86"
   },
   "outputs": [],
   "source": [
    "# 브랜드명의 빈도수를 봅니다.\n"
   ]
  },
  {
   "cell_type": "code",
   "execution_count": null,
   "metadata": {
    "id": "LV4VA81nyH86"
   },
   "outputs": [],
   "source": []
  },
  {
   "cell_type": "code",
   "execution_count": null,
   "metadata": {
    "id": "eCnexyqRyH86"
   },
   "outputs": [],
   "source": [
    "# countplot 으로 브랜드명을 그려봅니다.\n"
   ]
  },
  {
   "cell_type": "code",
   "execution_count": null,
   "metadata": {
    "id": "VFcW2wFVyH86"
   },
   "outputs": [],
   "source": [
    "# 시군구별로 브랜드명의 빈도수 차이를 비교합니다.\n"
   ]
  },
  {
   "cell_type": "code",
   "execution_count": null,
   "metadata": {
    "id": "y08y8nILyH86"
   },
   "outputs": [],
   "source": [
    "# scatterplot 으로 위경도를 표현해 봅니다.\n"
   ]
  },
  {
   "cell_type": "code",
   "execution_count": null,
   "metadata": {
    "id": "yOWN1yPhyH86"
   },
   "outputs": [],
   "source": [
    "# jointplot 으로 위경도를 표현해 봅니다.\n"
   ]
  },
  {
   "cell_type": "markdown",
   "metadata": {
    "id": "qYUQ1mYoyH87"
   },
   "source": [
    "## 지도에 표현하기\n",
    "### Marker 로 위치를 찍어보기"
   ]
  },
  {
   "cell_type": "code",
   "execution_count": null,
   "metadata": {
    "id": "Txde2XV-yH87"
   },
   "outputs": [],
   "source": []
  },
  {
   "cell_type": "code",
   "execution_count": null,
   "metadata": {
    "id": "SKjAzRs3yH87"
   },
   "outputs": [],
   "source": []
  },
  {
   "cell_type": "code",
   "execution_count": null,
   "metadata": {
    "id": "MSpv5_wFyH87"
   },
   "outputs": [],
   "source": [
    "# for i in df_bread.index:\n",
    "#     print(i)"
   ]
  },
  {
   "cell_type": "code",
   "execution_count": null,
   "metadata": {
    "id": "eR4PlkTyyH87"
   },
   "outputs": [],
   "source": [
    "# icon=folium.Icon(color=icon_color) 로 아이콘 컬러를 변경합니다.\n"
   ]
  },
  {
   "cell_type": "markdown",
   "metadata": {
    "id": "aR_VVGLVyH87"
   },
   "source": [
    "### MarkerCluster 로 표현하기\n",
    "* https://nbviewer.jupyter.org/github/python-visualization/folium/blob/master/examples/MarkerCluster.ipynb"
   ]
  },
  {
   "cell_type": "code",
   "execution_count": null,
   "metadata": {
    "id": "kTGm3xGRyH87"
   },
   "outputs": [],
   "source": []
  },
  {
   "cell_type": "markdown",
   "metadata": {
    "id": "BMqOpluUyH87"
   },
   "source": [
    "### Heatmap 으로 그리기\n",
    "https://nbviewer.jupyter.org/github/python-visualization/folium/blob/master/examples/Heatmap.ipynb"
   ]
  },
  {
   "cell_type": "code",
   "execution_count": null,
   "metadata": {
    "id": "V8h02rXDyH87"
   },
   "outputs": [],
   "source": [
    "# heatmap 예제 이해하기\n"
   ]
  },
  {
   "cell_type": "code",
   "execution_count": null,
   "metadata": {
    "id": "uRc8tseTyH87"
   },
   "outputs": [],
   "source": [
    "# heatmap 예제와 같은 형태로 데이터 2차원 배열 만들기\n"
   ]
  },
  {
   "cell_type": "code",
   "execution_count": null,
   "metadata": {
    "id": "mlKgsaqqyH88"
   },
   "outputs": [],
   "source": []
  },
  {
   "cell_type": "code",
   "execution_count": null,
   "metadata": {
    "id": "ZsdtgHdCyH88"
   },
   "outputs": [],
   "source": [
    "# HeatMap 그리기\n"
   ]
  },
  {
   "cell_type": "code",
   "execution_count": null,
   "metadata": {
    "id": "jS1sErHvyH88"
   },
   "outputs": [],
   "source": []
  }
 ],
 "metadata": {
  "colab": {
   "name": "03-franchise-eda-input.ipynb",
   "provenance": []
  },
  "kernelspec": {
   "display_name": "Python 3",
   "language": "python",
   "name": "python3"
  },
  "language_info": {
   "codemirror_mode": {
    "name": "ipython",
    "version": 3
   },
   "file_extension": ".py",
   "mimetype": "text/x-python",
   "name": "python",
   "nbconvert_exporter": "python",
   "pygments_lexer": "ipython3",
   "version": "3.8.5"
  },
  "toc": {
   "base_numbering": 1,
   "nav_menu": {},
   "number_sections": true,
   "sideBar": true,
   "skip_h1_title": false,
   "title_cell": "Table of Contents",
   "title_sidebar": "Contents",
   "toc_cell": false,
   "toc_position": {
    "height": "calc(100% - 180px)",
    "left": "10px",
    "top": "150px",
    "width": "204.788px"
   },
   "toc_section_display": true,
   "toc_window_display": true
  },
  "varInspector": {
   "cols": {
    "lenName": 16,
    "lenType": 16,
    "lenVar": 40
   },
   "kernels_config": {
    "python": {
     "delete_cmd_postfix": "",
     "delete_cmd_prefix": "del ",
     "library": "var_list.py",
     "varRefreshCmd": "print(var_dic_list())"
    },
    "r": {
     "delete_cmd_postfix": ") ",
     "delete_cmd_prefix": "rm(",
     "library": "var_list.r",
     "varRefreshCmd": "cat(var_dic_list()) "
    }
   },
   "types_to_exclude": [
    "module",
    "function",
    "builtin_function_or_method",
    "instance",
    "_Feature"
   ],
   "window_display": false
  }
 },
 "nbformat": 4,
 "nbformat_minor": 4
}
